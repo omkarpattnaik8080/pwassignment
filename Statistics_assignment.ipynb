{
  "nbformat": 4,
  "nbformat_minor": 0,
  "metadata": {
    "colab": {
      "provenance": [],
      "authorship_tag": "ABX9TyNb+GqkGEbde0h2+nb5Fr7W",
      "include_colab_link": true
    },
    "kernelspec": {
      "name": "python3",
      "display_name": "Python 3"
    },
    "language_info": {
      "name": "python"
    }
  },
  "cells": [
    {
      "cell_type": "markdown",
      "metadata": {
        "id": "view-in-github",
        "colab_type": "text"
      },
      "source": [
        "<a href=\"https://colab.research.google.com/github/omkarpattnaik8080/pwassignment/blob/main/Statistics_assignment.ipynb\" target=\"_parent\"><img src=\"https://colab.research.google.com/assets/colab-badge.svg\" alt=\"Open In Colab\"/></a>"
      ]
    },
    {
      "cell_type": "code",
      "execution_count": 1,
      "metadata": {
        "id": "bcs5wwSYfsQd"
      },
      "outputs": [],
      "source": [
        "#Q1= Generate a list of 100 integers containing values between 90 to 130 and store it in the variable `int_list`.After generating the list, Find the following:\n",
        "import random\n",
        "int_list = [random.randint(90, 130) for x in range(100)]"
      ]
    },
    {
      "cell_type": "code",
      "source": [
        "print(int_list)"
      ],
      "metadata": {
        "colab": {
          "base_uri": "https://localhost:8080/"
        },
        "id": "wijfw0_WgJRJ",
        "outputId": "07428d12-c6c3-4e0b-cb2f-e9f963458c7e"
      },
      "execution_count": 2,
      "outputs": [
        {
          "output_type": "stream",
          "name": "stdout",
          "text": [
            "[99, 103, 120, 99, 129, 94, 121, 129, 119, 117, 112, 93, 106, 123, 113, 94, 93, 117, 90, 111, 130, 109, 103, 111, 94, 115, 92, 98, 124, 121, 92, 125, 105, 96, 98, 91, 94, 108, 97, 112, 111, 124, 124, 101, 109, 105, 105, 126, 111, 127, 129, 96, 125, 92, 109, 96, 125, 120, 125, 127, 99, 104, 108, 113, 126, 113, 106, 102, 109, 95, 100, 116, 120, 108, 105, 96, 127, 99, 92, 101, 129, 120, 108, 102, 113, 90, 108, 119, 94, 123, 108, 99, 95, 114, 127, 125, 111, 127, 92, 118]\n"
          ]
        }
      ]
    },
    {
      "cell_type": "code",
      "source": [
        "# Write a Python function to calculate the mean of a given list of numbers.Create a function to find the median of a list of numbers.\n",
        "def mean(int_list):\n",
        "  n=len(int_list)\n",
        "  if len(int_list)==0:\n",
        "    return 0.0\n",
        "  mean_value=sum(int_list)/len(int_list)\n",
        "  return mean_value\n"
      ],
      "metadata": {
        "id": "sydGVM56hxr6"
      },
      "execution_count": 3,
      "outputs": []
    },
    {
      "cell_type": "code",
      "source": [
        "mean(int_list)"
      ],
      "metadata": {
        "colab": {
          "base_uri": "https://localhost:8080/"
        },
        "id": "-_ArPA6phxzO",
        "outputId": "d372d828-9f49-4c00-8200-440403cf21c4"
      },
      "execution_count": 4,
      "outputs": [
        {
          "output_type": "execute_result",
          "data": {
            "text/plain": [
              "109.45"
            ]
          },
          "metadata": {},
          "execution_count": 4
        }
      ]
    },
    {
      "cell_type": "code",
      "source": [
        "def findmedian(int_list):\n",
        "    sorted_list = sorted(int_list)\n",
        "    n = len(sorted_list)\n",
        "    if n == 0:\n",
        "        return None\n",
        "    if n % 2 == 1:\n",
        "        median = sorted_list[n // 2]\n",
        "    else:\n",
        "        median = (sorted_list[n // 2 - 1] + sorted_list[n // 2]) / 2\n",
        "\n",
        "    return median"
      ],
      "metadata": {
        "id": "rHLdcujWhx2A"
      },
      "execution_count": 5,
      "outputs": []
    },
    {
      "cell_type": "code",
      "source": [
        "findmedian(int_list)"
      ],
      "metadata": {
        "id": "ccHbOwAmhx4e",
        "colab": {
          "base_uri": "https://localhost:8080/"
        },
        "outputId": "aad7ca02-ccc6-4330-e331-d1a0dec4e682"
      },
      "execution_count": 6,
      "outputs": [
        {
          "output_type": "execute_result",
          "data": {
            "text/plain": [
              "109.0"
            ]
          },
          "metadata": {},
          "execution_count": 6
        }
      ]
    },
    {
      "cell_type": "code",
      "source": [
        "#calculate mode\n",
        "from collections import Counter\n",
        "def calculatemode(int_list):\n",
        "    count_dict=Counter(int_list)\n",
        "    max_count=max(count_dict.values())\n",
        "    mode=[]\n",
        "    for num,count in count_dict.items():\n",
        "         if count==max_count:\n",
        "            mode.append(num)\n",
        "    return mode"
      ],
      "metadata": {
        "id": "TmwHET7oW9-m"
      },
      "execution_count": 7,
      "outputs": []
    },
    {
      "cell_type": "code",
      "source": [
        "calculatemode(int_list)"
      ],
      "metadata": {
        "colab": {
          "base_uri": "https://localhost:8080/"
        },
        "id": "QL4uRRMiaehw",
        "outputId": "7242e863-aa63-474c-857b-667b78ded8b1"
      },
      "execution_count": 8,
      "outputs": [
        {
          "output_type": "execute_result",
          "data": {
            "text/plain": [
              "[108]"
            ]
          },
          "metadata": {},
          "execution_count": 8
        }
      ]
    },
    {
      "cell_type": "code",
      "source": [
        "def calculate_weighted_mean(values, weights):\n",
        "    \"\"\"\n",
        "    Calculate the weighted mean of a list of values and their corresponding weights.\n",
        "\n",
        "    Parameters:\n",
        "    values (list of float or int): A list containing numerical values.\n",
        "    weights (list of float or int): A list containing corresponding weights for the values.\n",
        "\n",
        "    Returns:\n",
        "    float: Weighted mean of the values.\n",
        "\n",
        "    Raises:\n",
        "    ValueError: If lengths of values and weights are not equal or if weights contain non-positive values.\n",
        "    \"\"\"\n",
        "    # Check if lengths of values and weights are equal\n",
        "    if len(values) != len(weights):\n",
        "        raise ValueError(\"Lengths of values and weights must be the same.\")\n",
        "\n",
        "    # Check if all weights are non-negative\n",
        "    if any(weight < 0 for weight in weights):\n",
        "        raise ValueError(\"Weights must be non-negative.\")\n",
        "\n",
        "    # Calculate weighted mean\n",
        "    weighted_sum = sum(value * weight for value, weight in zip(values, weights))\n",
        "    sum_of_weights = sum(weights)\n",
        "\n",
        "    if sum_of_weights == 0:\n",
        "        raise ValueError(\"Sum of weights cannot be zero.\")\n",
        "\n",
        "    weighted_mean = weighted_sum / sum_of_weights\n",
        "\n",
        "    return weighted_mean"
      ],
      "metadata": {
        "id": "YNQzpWypcEdC"
      },
      "execution_count": 9,
      "outputs": []
    },
    {
      "cell_type": "code",
      "source": [
        "# (iii)Write a Python function to find the geometric mean of a list of positive numbers.\n",
        "import math\n",
        "\n",
        "def calculategm(numbers):\n",
        "    if len(numbers) == 0:\n",
        "        raise ValueError(\"List cannot be empty.\")\n",
        "\n",
        "    # Check if all numbers are positive\n",
        "    if any(num <= 0 for num in numbers):\n",
        "        raise ValueError(\"All numbers must be positive.\")\n",
        "\n",
        "    # Calculate the product of the numbers\n",
        "    product = 1\n",
        "    for num in numbers:\n",
        "        product *= num\n",
        "\n",
        "    # Calculate the geometric mean using the n-th root\n",
        "    n = len(numbers)\n",
        "    geometric_mean = math.pow(product, 1/n)\n",
        "\n",
        "    return geometric_mean\n",
        "\n",
        "# Example usage:\n",
        "numbers = [1, 2, 3, 4, 5]\n",
        "\n",
        "try:\n",
        "    # Calculate the geometric mean\n",
        "    geometric_mean_value = calculategm(numbers)\n",
        "    print(\"Geometric mean:\", geometric_mean_value)\n",
        "except ValueError as e:\n",
        "    print(f\"Error: {e}\")\n"
      ],
      "metadata": {
        "colab": {
          "base_uri": "https://localhost:8080/"
        },
        "id": "bAOrel2btcTF",
        "outputId": "2b64c286-a7b0-40be-96ab-dfe5a370fce8"
      },
      "execution_count": 10,
      "outputs": [
        {
          "output_type": "stream",
          "name": "stdout",
          "text": [
            "Geometric mean: 2.605171084697352\n"
          ]
        }
      ]
    },
    {
      "cell_type": "code",
      "source": [
        "# Create a program to calculate the harmonic mean of a list of values.\n",
        "def calculatehm(numbers):\n",
        "    # Check if the list is empty\n",
        "    if len(numbers) == 0:\n",
        "        raise ValueError(\"List cannot be empty.\")\n",
        "\n",
        "    # Check if all numbers are positive\n",
        "    if any(num <= 0 for num in numbers):\n",
        "        raise ValueError(\"All numbers must be positive.\")\n",
        "\n",
        "    # Calculate the harmonic mean\n",
        "    harmonic_mean = len(numbers) / sum(1 / num for num in numbers)\n",
        "\n",
        "    return harmonic_mean\n",
        "\n",
        "# Example usage:\n",
        "numbers = [2, 4, 8, 16]"
      ],
      "metadata": {
        "id": "RqMVmSlDy5mJ"
      },
      "execution_count": 11,
      "outputs": []
    },
    {
      "cell_type": "code",
      "source": [
        "calculatehm(numbers)"
      ],
      "metadata": {
        "colab": {
          "base_uri": "https://localhost:8080/"
        },
        "id": "9-WjHGRG25f-",
        "outputId": "555c5d13-e3e1-4484-9bba-1043d3e1e27c"
      },
      "execution_count": 12,
      "outputs": [
        {
          "output_type": "execute_result",
          "data": {
            "text/plain": [
              "4.266666666666667"
            ]
          },
          "metadata": {},
          "execution_count": 12
        }
      ]
    },
    {
      "cell_type": "code",
      "source": [
        "#Build a function to determine the midrange of a list of numbers (average of the minimum and maximum)\n",
        "def calculatemidrange(numbers):\n",
        "    # Check if the list is empty\n",
        "    if len(numbers) == 0:\n",
        "        raise ValueError(\"List cannot be empty.\")\n",
        "\n",
        "    # Calculate the midrange\n",
        "    minimum = min(numbers)\n",
        "    maximum = max(numbers)\n",
        "    midrange = (minimum + maximum) / 2\n",
        "\n",
        "    return midrange\n"
      ],
      "metadata": {
        "id": "-mGsu8aF3EHZ"
      },
      "execution_count": 13,
      "outputs": []
    },
    {
      "cell_type": "code",
      "source": [
        "calculatemidrange(numbers)"
      ],
      "metadata": {
        "colab": {
          "base_uri": "https://localhost:8080/"
        },
        "id": "cOY_4Qn64vtg",
        "outputId": "5ea6d2c7-41ef-47c3-d032-7c8fca564293"
      },
      "execution_count": 14,
      "outputs": [
        {
          "output_type": "execute_result",
          "data": {
            "text/plain": [
              "9.0"
            ]
          },
          "metadata": {},
          "execution_count": 14
        }
      ]
    },
    {
      "cell_type": "code",
      "source": [
        "# 2. Generate a list of 500 integers containing values between 200 to 300 and store it in the variable `int_list2`. After generating the list, >ind the >ollowing"
      ],
      "metadata": {
        "id": "Wfzp0gX040r_"
      },
      "execution_count": 15,
      "outputs": []
    },
    {
      "cell_type": "code",
      "source": [
        "import random\n",
        "int_list2=[random.randint(200,300) for x in range(500)]"
      ],
      "metadata": {
        "id": "1FvVUDpp40vM"
      },
      "execution_count": 16,
      "outputs": []
    },
    {
      "cell_type": "code",
      "source": [
        "import matplotlib.pyplot as plt\n",
        "# Plotting the histogram\n",
        "plt.hist(int_list2, bins=20)\n",
        "plt.title('Frequency Distribution')\n",
        "plt.xlabel('Value')\n",
        "plt.ylabel('Frequency')\n",
        "plt.grid(True)\n",
        "plt.show()\n"
      ],
      "metadata": {
        "id": "NEfE693S40z8",
        "colab": {
          "base_uri": "https://localhost:8080/",
          "height": 472
        },
        "outputId": "9e11f660-2e3c-49bb-c6a7-75c9373692a2"
      },
      "execution_count": 17,
      "outputs": [
        {
          "output_type": "display_data",
          "data": {
            "text/plain": [
              "<Figure size 640x480 with 1 Axes>"
            ],
            "image/png": "[encoded data removed]"
          },
          "metadata": {}
        }
      ]
    },
    {
      "cell_type": "code",
      "source": [
        "import numpy as np\n",
        "\n",
        "# Calculate mean and standard deviation of int_list2\n",
        "mean = np.mean(int_list2)\n",
        "std_dev = np.std(int_list2)\n",
        "\n",
        "# data points normal distribution\n",
        "x = np.linspace(min(int_list2), max(int_list2), 500)\n",
        "y = 500 * np.exp(-(x - mean)**2 / (2 * std_dev**2)) / (std_dev * np.sqrt(2 * np.pi))\n",
        "\n",
        "# histogram of int_list2\n",
        "plt.hist(int_list2, bins=20, density=True, alpha=0.6, color='g', edgecolor='black', label='Histogram')\n",
        "\n",
        "# Plotting the theoretical normal distribution\n",
        "plt.plot(x, y, linewidth=2, color='r', label='Normal Distribution')\n",
        "\n",
        "plt.title('Comparison with Gaussian Distribution')\n",
        "plt.xlabel('Value')\n",
        "plt.ylabel('Density')\n",
        "plt.legend()\n",
        "plt.grid(True)\n",
        "plt.show()\n"
      ],
      "metadata": {
        "id": "Z83i_z7I4020",
        "colab": {
          "base_uri": "https://localhost:8080/",
          "height": 472
        },
        "outputId": "46fa1b20-c6ee-49e5-bdec-6614772ee587"
      },
      "execution_count": null,
      "outputs": [
        {
          "output_type": "display_data",
          "data": {
            "text/plain": [
              "<Figure size 640x480 with 1 Axes>"
            ],
            "image/png": "[encoded data removed]"
          },
          "metadata": {}
        }
      ]
    },
    {
      "cell_type": "code",
      "source": [
        "import numpy as np\n",
        "import matplotlib.pyplot as plt\n",
        "import seaborn as sns\n",
        "from scipy.stats import norm\n",
        "\n",
        "# Generate random data from a normal distribution\n",
        "np.random.seed(0)\n",
        "data = np.random.normal(loc=0, scale=1, size=1000)\n",
        "\n",
        "# Plot the histogram with a Gaussian (normal) distribution overlay\n",
        "plt.figure(figsize=(10, 6))\n",
        "\n",
        "# Plotting KDE\n",
        "sns.histplot(data, bins=30, kde=True, label='Histogram with KDE', color='blue', alpha=0.5)\n",
        "\n",
        "# Plotting Gaussian (normal) distribution\n",
        "xmin, xmax = plt.xlim()\n",
        "x = np.linspace(xmin, xmax, 100)\n",
        "p = norm.pdf(x, np.mean(data), np.std(data))\n",
        "plt.plot(x, p, 'k', linewidth=2, label='Gaussian (Normal) Distribution')\n",
        "\n",
        "plt.title('Comparison of Gaussian Distribution and KDE Plot')\n",
        "plt.xlabel('Values')\n",
        "plt.ylabel('Density')\n",
        "plt.legend()\n",
        "plt.grid(True)\n",
        "plt.show()\n",
        "\n"
      ],
      "metadata": {
        "colab": {
          "base_uri": "https://localhost:8080/",
          "height": 564
        },
        "id": "S9xbBpSND7U6",
        "outputId": "8d930335-5bd3-405a-9f9c-a678fc09b4b4"
      },
      "execution_count": 27,
      "outputs": [
        {
          "output_type": "display_data",
          "data": {
            "text/plain": [
              "<Figure size 1000x600 with 1 Axes>"
            ],
            "image/png": "[encoded data removed]"
          },
          "metadata": {}
        }
      ]
    },
    {
      "cell_type": "code",
      "source": [
        "#(ii)Python function that calculates the range of a given list of numbers:\n",
        "def calculate_range(numbers):\n",
        "    if not numbers:\n",
        "        return None\n",
        "\n",
        "    min_num = min(numbers)\n",
        "    max_num = max(numbers)\n",
        "    rangeofnumbs = max_num - min_num\n",
        "    return rangeofnumbs\n",
        "\n",
        "# driver code\n",
        "numbers1 = [3, 6, 9, 1, 5]\n",
        "print(calculate_range(numbers1))\n"
      ],
      "metadata": {
        "id": "Qw4P3lbj409Q",
        "colab": {
          "base_uri": "https://localhost:8080/"
        },
        "outputId": "946b10fe-27fe-4002-882c-2ba5bda1566c"
      },
      "execution_count": 25,
      "outputs": [
        {
          "output_type": "stream",
          "name": "stdout",
          "text": [
            "8\n"
          ]
        }
      ]
    },
    {
      "cell_type": "code",
      "source": [
        "#Python program that calculates the variance and standard deviation of a list of numbers:\n",
        "import math\n",
        "\n",
        "def calculate_variance(numbers):\n",
        "    n = len(numbers)\n",
        "    if n < 2:\n",
        "        return None  # Variance is undefined for less than 2 elements\n",
        "\n",
        "    mean = sum(numbers) / n\n",
        "    variance = sum((x - mean) ** 2 for x in numbers) / (n - 1)\n",
        "    return variance\n",
        "\n",
        "def calculate_standard_deviation(numbers):\n",
        "    variance = calculate_variance(numbers)\n",
        "    if variance is None:\n",
        "        return None\n",
        "    return math.sqrt(variance)\n",
        "\n",
        "# Example usage:\n",
        "numbers = [3, 6, 9, 1, 5]\n",
        "\n",
        "variance = calculate_variance(numbers)\n",
        "standard_deviation = calculate_standard_deviation(numbers)\n",
        "\n",
        "print(f\"List of numbers: {numbers}\")\n",
        "print(f\"Variance: {variance}\")\n",
        "print(f\"Standard Deviation: {standard_deviation}\")\n"
      ],
      "metadata": {
        "colab": {
          "base_uri": "https://localhost:8080/"
        },
        "id": "NIrUsj-wD3cD",
        "outputId": "c4e35e1c-b20b-44c1-fcd7-ea74e2e2ce4e"
      },
      "execution_count": 28,
      "outputs": [
        {
          "output_type": "stream",
          "name": "stdout",
          "text": [
            "List of numbers: [3, 6, 9, 1, 5]\n",
            "Variance: 9.2\n",
            "Standard Deviation: 3.03315017762062\n"
          ]
        }
      ]
    },
    {
      "cell_type": "code",
      "source": [
        "import numpy as np\n",
        "def calculate_iqr(values):\n",
        "    # Sort the values\n",
        "    sorted_values = np.sort(values)\n",
        "    # Calculate Q1 (first quartile) and Q3 (third quartile)\n",
        "    q1 = np.percentile(sorted_values, 25)\n",
        "    q3 = np.percentile(sorted_values, 75)\n",
        "    # Calculate IQR (Interquartile Range)\n",
        "    iqr = q3 - q1\n",
        "    return iqr\n",
        "# driver code\n",
        "values = [3, 6, 9, 1, 5, 7]\n",
        "iqr = calculate_iqr(values)\n",
        "print(f\"List of values: {values}\")\n",
        "print(f\"IQR (Interquartile Range): {iqr}\")\n"
      ],
      "metadata": {
        "colab": {
          "base_uri": "https://localhost:8080/"
        },
        "id": "0Uv25_rlD3jj",
        "outputId": "826ba60c-6c01-468b-8a13-e8861d355dd7"
      },
      "execution_count": 29,
      "outputs": [
        {
          "output_type": "stream",
          "name": "stdout",
          "text": [
            "List of values: [3, 6, 9, 1, 5, 7]\n",
            "IQR (Interquartile Range): 3.25\n"
          ]
        }
      ]
    },
    {
      "cell_type": "code",
      "source": [
        "# program to calculate the coefficient of variation for a dataset\n",
        "import numpy as np\n",
        "def calculate_coefficient_of_variation(data):\n",
        "    # Calculate mean and standard deviation\n",
        "    mean = np.mean(data)\n",
        "    std_dev = np.std(data)\n",
        "\n",
        "    # Calculate coefficient of variation (CV)\n",
        "    coefficient_of_variation = (std_dev / mean) * 100\n",
        "\n",
        "    return coefficient_of_variation\n",
        "# driver code\n",
        "data = [3, 6, 9, 1, 5, 7]\n",
        "cv = calculate_coefficient_of_variation(data)\n",
        "print(f\"Dataset: {data}\")\n",
        "print(f\"Coefficient of Variation: {cv:.2f}%\")\n"
      ],
      "metadata": {
        "colab": {
          "base_uri": "https://localhost:8080/"
        },
        "id": "SFnp_DKYD3nz",
        "outputId": "d519adad-b71c-4afb-c774-4f43dde1bbbf"
      },
      "execution_count": 30,
      "outputs": [
        {
          "output_type": "stream",
          "name": "stdout",
          "text": [
            "Dataset: [3, 6, 9, 1, 5, 7]\n",
            "Coefficient of Variation: 50.49%\n"
          ]
        }
      ]
    },
    {
      "cell_type": "code",
      "source": [],
      "metadata": {
        "id": "9xj0jtMRD3rX"
      },
      "execution_count": null,
      "outputs": []
    },
    {
      "cell_type": "code",
      "source": [],
      "metadata": {
        "id": "DpFVXNFGD3xm"
      },
      "execution_count": null,
      "outputs": []
    }
  ]
}