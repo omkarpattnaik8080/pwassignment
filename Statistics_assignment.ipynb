{
  "nbformat": 4,
  "nbformat_minor": 0,
  "metadata": {
    "colab": {
      "provenance": [],
      "authorship_tag": "ABX9TyPrReH6RZAZU7IHuIdM1KQc",
      "include_colab_link": true
    },
    "kernelspec": {
      "name": "python3",
      "display_name": "Python 3"
    },
    "language_info": {
      "name": "python"
    }
  },
  "cells": [
    {
      "cell_type": "markdown",
      "metadata": {
        "id": "view-in-github",
        "colab_type": "text"
      },
      "source": [
        "<a href=\"https://colab.research.google.com/github/omkarpattnaik8080/pwassignment/blob/main/Statistics_assignment.ipynb\" target=\"_parent\"><img src=\"https://colab.research.google.com/assets/colab-badge.svg\" alt=\"Open In Colab\"/></a>"
      ]
    },
    {
      "cell_type": "code",
      "execution_count": 21,
      "metadata": {
        "id": "bcs5wwSYfsQd"
      },
      "outputs": [],
      "source": [
        "#Q1= Generate a list of 100 integers containing values between 90 to 130 and store it in the variable `int_list`.After generating the list, Find the following:\n",
        "import random\n",
        "int_list = [random.randint(90, 130) for x in range(100)]"
      ]
    },
    {
      "cell_type": "code",
      "source": [
        "print(int_list)"
      ],
      "metadata": {
        "colab": {
          "base_uri": "https://localhost:8080/"
        },
        "id": "wijfw0_WgJRJ",
        "outputId": "036dace5-6da0-4e24-ebec-87328b9af8e6"
      },
      "execution_count": 22,
      "outputs": [
        {
          "output_type": "stream",
          "name": "stdout",
          "text": [
            "[111, 130, 127, 125, 106, 101, 103, 97, 105, 90, 101, 117, 119, 105, 117, 125, 111, 118, 106, 121, 118, 123, 124, 118, 108, 105, 95, 94, 119, 94, 102, 109, 112, 102, 128, 124, 98, 107, 100, 104, 92, 114, 120, 96, 104, 122, 106, 94, 94, 130, 117, 100, 127, 100, 99, 98, 104, 93, 123, 119, 113, 129, 114, 98, 124, 121, 125, 112, 109, 112, 130, 94, 90, 126, 120, 113, 104, 123, 112, 116, 103, 100, 102, 100, 97, 110, 108, 111, 100, 125, 106, 95, 110, 92, 115, 92, 97, 122, 130, 94]\n"
          ]
        }
      ]
    },
    {
      "cell_type": "code",
      "source": [
        "# Write a Python function to calculate the mean of a given list of numbers.Create a function to find the median of a list of numbers.\n",
        "def mean(int_list):\n",
        "  n=len(int_list)\n",
        "  if len(int_list)==0:\n",
        "    return 0.0\n",
        "  mean_value=sum(int_list)/len(int_list)\n",
        "  return mean_value\n"
      ],
      "metadata": {
        "id": "sydGVM56hxr6"
      },
      "execution_count": 23,
      "outputs": []
    },
    {
      "cell_type": "code",
      "source": [
        "mean(int_list)"
      ],
      "metadata": {
        "colab": {
          "base_uri": "https://localhost:8080/"
        },
        "id": "-_ArPA6phxzO",
        "outputId": "a3122bbc-06df-46dd-f972-3b447e143454"
      },
      "execution_count": 24,
      "outputs": [
        {
          "output_type": "execute_result",
          "data": {
            "text/plain": [
              "109.65"
            ]
          },
          "metadata": {},
          "execution_count": 24
        }
      ]
    },
    {
      "cell_type": "code",
      "source": [
        "def findmedian(int_list):\n",
        "    sorted_list = sorted(int_list)\n",
        "    n = len(sorted_list)\n",
        "    if n == 0:\n",
        "        return None\n",
        "    if n % 2 == 1:\n",
        "        median = sorted_list[n // 2]\n",
        "    else:\n",
        "        median = (sorted_list[n // 2 - 1] + sorted_list[n // 2]) / 2\n",
        "\n",
        "    return median"
      ],
      "metadata": {
        "id": "rHLdcujWhx2A"
      },
      "execution_count": 25,
      "outputs": []
    },
    {
      "cell_type": "code",
      "source": [
        "findmedian(int_list)"
      ],
      "metadata": {
        "colab": {
          "base_uri": "https://localhost:8080/"
        },
        "id": "ccHbOwAmhx4e",
        "outputId": "89a788a2-c4ba-4e35-a3b9-9acea1f9cb5d"
      },
      "execution_count": 26,
      "outputs": [
        {
          "output_type": "execute_result",
          "data": {
            "text/plain": [
              "109.0"
            ]
          },
          "metadata": {},
          "execution_count": 26
        }
      ]
    },
    {
      "cell_type": "code",
      "source": [
        "#calculate mode\n",
        "from collections import Counter\n",
        "def calculatemode(int_list):\n",
        "    count_dict=Counter(int_list)\n",
        "    max_count=max(count_dict.values())\n",
        "    mode=[]\n",
        "    for num,count in count_dict.items():\n",
        "         if count==max_count:\n",
        "            mode.append(num)\n",
        "    return mode"
      ],
      "metadata": {
        "id": "TmwHET7oW9-m"
      },
      "execution_count": 27,
      "outputs": []
    },
    {
      "cell_type": "code",
      "source": [
        "calculatemode(int_list)"
      ],
      "metadata": {
        "colab": {
          "base_uri": "https://localhost:8080/"
        },
        "id": "QL4uRRMiaehw",
        "outputId": "8a94bb0a-f405-4697-aa39-8d06bef6144e"
      },
      "execution_count": 18,
      "outputs": [
        {
          "output_type": "execute_result",
          "data": {
            "text/plain": [
              "[123]"
            ]
          },
          "metadata": {},
          "execution_count": 18
        }
      ]
    },
    {
      "cell_type": "code",
      "source": [
        "def calculate_weighted_mean(values, weights):\n",
        "    \"\"\"\n",
        "    Calculate the weighted mean of a list of values and their corresponding weights.\n",
        "\n",
        "    Parameters:\n",
        "    values (list of float or int): A list containing numerical values.\n",
        "    weights (list of float or int): A list containing corresponding weights for the values.\n",
        "\n",
        "    Returns:\n",
        "    float: Weighted mean of the values.\n",
        "\n",
        "    Raises:\n",
        "    ValueError: If lengths of values and weights are not equal or if weights contain non-positive values.\n",
        "    \"\"\"\n",
        "    # Check if lengths of values and weights are equal\n",
        "    if len(values) != len(weights):\n",
        "        raise ValueError(\"Lengths of values and weights must be the same.\")\n",
        "\n",
        "    # Check if all weights are non-negative\n",
        "    if any(weight < 0 for weight in weights):\n",
        "        raise ValueError(\"Weights must be non-negative.\")\n",
        "\n",
        "    # Calculate weighted mean\n",
        "    weighted_sum = sum(value * weight for value, weight in zip(values, weights))\n",
        "    sum_of_weights = sum(weights)\n",
        "\n",
        "    if sum_of_weights == 0:\n",
        "        raise ValueError(\"Sum of weights cannot be zero.\")\n",
        "\n",
        "    weighted_mean = weighted_sum / sum_of_weights\n",
        "\n",
        "    return weighted_mean"
      ],
      "metadata": {
        "id": "YNQzpWypcEdC"
      },
      "execution_count": 28,
      "outputs": []
    },
    {
      "cell_type": "code",
      "source": [
        "# (iii)Write a Python function to find the geometric mean of a list of positive numbers.\n",
        "import math\n",
        "\n",
        "def calculategm(numbers):\n",
        "    if len(numbers) == 0:\n",
        "        raise ValueError(\"List cannot be empty.\")\n",
        "\n",
        "    # Check if all numbers are positive\n",
        "    if any(num <= 0 for num in numbers):\n",
        "        raise ValueError(\"All numbers must be positive.\")\n",
        "\n",
        "    # Calculate the product of the numbers\n",
        "    product = 1\n",
        "    for num in numbers:\n",
        "        product *= num\n",
        "\n",
        "    # Calculate the geometric mean using the n-th root\n",
        "    n = len(numbers)\n",
        "    geometric_mean = math.pow(product, 1/n)\n",
        "\n",
        "    return geometric_mean\n",
        "\n",
        "# Example usage:\n",
        "numbers = [1, 2, 3, 4, 5]\n",
        "\n",
        "try:\n",
        "    # Calculate the geometric mean\n",
        "    geometric_mean_value = calculategm(numbers)\n",
        "    print(\"Geometric mean:\", geometric_mean_value)\n",
        "except ValueError as e:\n",
        "    print(f\"Error: {e}\")\n"
      ],
      "metadata": {
        "colab": {
          "base_uri": "https://localhost:8080/"
        },
        "id": "bAOrel2btcTF",
        "outputId": "6e77b701-6ba2-4069-c418-c9a637571c52"
      },
      "execution_count": 29,
      "outputs": [
        {
          "output_type": "stream",
          "name": "stdout",
          "text": [
            "Geometric mean: 2.605171084697352\n"
          ]
        }
      ]
    },
    {
      "cell_type": "code",
      "source": [
        "# Create a program to calculate the harmonic mean of a list of values.\n",
        "def calculatehm(numbers):\n",
        "    # Check if the list is empty\n",
        "    if len(numbers) == 0:\n",
        "        raise ValueError(\"List cannot be empty.\")\n",
        "\n",
        "    # Check if all numbers are positive\n",
        "    if any(num <= 0 for num in numbers):\n",
        "        raise ValueError(\"All numbers must be positive.\")\n",
        "\n",
        "    # Calculate the harmonic mean\n",
        "    harmonic_mean = len(numbers) / sum(1 / num for num in numbers)\n",
        "\n",
        "    return harmonic_mean\n",
        "\n",
        "# Example usage:\n",
        "numbers = [2, 4, 8, 16]"
      ],
      "metadata": {
        "id": "RqMVmSlDy5mJ"
      },
      "execution_count": 32,
      "outputs": []
    },
    {
      "cell_type": "code",
      "source": [
        "calculatehm(numbers)"
      ],
      "metadata": {
        "colab": {
          "base_uri": "https://localhost:8080/"
        },
        "id": "9-WjHGRG25f-",
        "outputId": "aa79ec7d-2613-4f8d-8127-78b5b5944480"
      },
      "execution_count": 33,
      "outputs": [
        {
          "output_type": "execute_result",
          "data": {
            "text/plain": [
              "4.266666666666667"
            ]
          },
          "metadata": {},
          "execution_count": 33
        }
      ]
    },
    {
      "cell_type": "code",
      "source": [
        "#Build a function to determine the midrange of a list of numbers (average of the minimum and maximum)\n",
        "def calculatemidrange(numbers):\n",
        "    # Check if the list is empty\n",
        "    if len(numbers) == 0:\n",
        "        raise ValueError(\"List cannot be empty.\")\n",
        "\n",
        "    # Calculate the midrange\n",
        "    minimum = min(numbers)\n",
        "    maximum = max(numbers)\n",
        "    midrange = (minimum + maximum) / 2\n",
        "\n",
        "    return midrange\n"
      ],
      "metadata": {
        "id": "-mGsu8aF3EHZ"
      },
      "execution_count": 35,
      "outputs": []
    },
    {
      "cell_type": "code",
      "source": [
        "calculatemidrange(numbers)"
      ],
      "metadata": {
        "colab": {
          "base_uri": "https://localhost:8080/"
        },
        "id": "cOY_4Qn64vtg",
        "outputId": "53ce1587-c42a-4d3e-df0b-a121f0607a98"
      },
      "execution_count": 36,
      "outputs": [
        {
          "output_type": "execute_result",
          "data": {
            "text/plain": [
              "9.0"
            ]
          },
          "metadata": {},
          "execution_count": 36
        }
      ]
    },
    {
      "cell_type": "code",
      "source": [],
      "metadata": {
        "id": "Wfzp0gX040r_"
      },
      "execution_count": null,
      "outputs": []
    },
    {
      "cell_type": "code",
      "source": [],
      "metadata": {
        "id": "1FvVUDpp40vM"
      },
      "execution_count": null,
      "outputs": []
    },
    {
      "cell_type": "code",
      "source": [],
      "metadata": {
        "id": "NEfE693S40z8"
      },
      "execution_count": null,
      "outputs": []
    },
    {
      "cell_type": "code",
      "source": [],
      "metadata": {
        "id": "Z83i_z7I4020"
      },
      "execution_count": null,
      "outputs": []
    },
    {
      "cell_type": "code",
      "source": [],
      "metadata": {
        "id": "tpiDZVMQ406M"
      },
      "execution_count": null,
      "outputs": []
    },
    {
      "cell_type": "code",
      "source": [],
      "metadata": {
        "id": "Qw4P3lbj409Q"
      },
      "execution_count": null,
      "outputs": []
    },
    {
      "cell_type": "code",
      "source": [],
      "metadata": {
        "id": "9QzcQSF441BX"
      },
      "execution_count": null,
      "outputs": []
    }
  ]
}